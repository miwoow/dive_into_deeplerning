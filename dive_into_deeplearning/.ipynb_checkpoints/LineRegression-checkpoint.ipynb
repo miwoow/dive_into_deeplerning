{
 "cells": [
  {
   "cell_type": "code",
   "execution_count": 1,
   "id": "confused-holly",
   "metadata": {},
   "outputs": [],
   "source": [
    "import tensorflow as tf\n",
    "import numpy as np\n",
    "import pandas as pd\n",
    "\n",
    "num_inputs = 2\n",
    "num_examples = 1000\n",
    "\n",
    "true_w = [2, -3.4]                                                                                                                                                                                                 \n",
    "true_b = 4.2                                                                                                                                                                                                       \n",
    "                                                                                                                                                                                                                       \n",
    "features = tf.random.normal(shape=[num_examples, num_inputs], mean=0, stddev=1.0)                                                                                                                                  \n",
    "labels = true_w[0] * features[:, 0] + true_w[1] * features[:,1] + true_b                                                                                                                                           \n",
    "labels +=  tf.random.normal(labels.shape, stddev=0.01)                                                                                                                                                             "
   ]
  },
  {
   "cell_type": "code",
   "execution_count": 2,
   "id": "breeding-trick",
   "metadata": {},
   "outputs": [],
   "source": [
    "f2_and_label = pd.DataFrame({'f2': features[:,1].numpy(), 'label': labels.numpy()})"
   ]
  },
  {
   "cell_type": "code",
   "execution_count": 3,
   "id": "understood-spiritual",
   "metadata": {},
   "outputs": [
    {
     "data": {
      "text/plain": [
       "<matplotlib.axes._subplots.AxesSubplot at 0x7f8dec5b3f28>"
      ]
     },
     "execution_count": 3,
     "metadata": {},
     "output_type": "execute_result"
    },
    {
     "data": {
      "image/png": "[encoded data removed]",
      "text/plain": [
       "<Figure size 432x288 with 1 Axes>"
      ]
     },
     "metadata": {
      "needs_background": "light"
     },
     "output_type": "display_data"
    }
   ],
   "source": [
    "f2_and_label.plot.scatter(x='f2', y='label')"
   ]
  },
  {
   "cell_type": "code",
   "execution_count": 4,
   "id": "bizarre-peeing",
   "metadata": {},
   "outputs": [],
   "source": [
    "labels_shaped = tf.reshape(labels, [-1, 1])"
   ]
  },
  {
   "cell_type": "code",
   "execution_count": 5,
   "id": "willing-gentleman",
   "metadata": {},
   "outputs": [],
   "source": [
    "all_data = tf.concat([features, labels_shaped], 1)"
   ]
  },
  {
   "cell_type": "code",
   "execution_count": 6,
   "id": "rocky-grass",
   "metadata": {},
   "outputs": [
    {
     "data": {
      "text/plain": [
       "<tf.Tensor: shape=(3,), dtype=float32, numpy=array([-0.27220282, -0.5763485 ,  5.613712  ], dtype=float32)>"
      ]
     },
     "execution_count": 6,
     "metadata": {},
     "output_type": "execute_result"
    }
   ],
   "source": [
    "all_data[0]"
   ]
  },
  {
   "cell_type": "code",
   "execution_count": 7,
   "id": "passing-saturday",
   "metadata": {},
   "outputs": [],
   "source": [
    "ds = tf.data.Dataset.from_tensor_slices(all_data)"
   ]
  },
  {
   "cell_type": "code",
   "execution_count": 8,
   "id": "regular-receipt",
   "metadata": {},
   "outputs": [],
   "source": [
    "batch_size = 10"
   ]
  },
  {
   "cell_type": "code",
   "execution_count": 11,
   "id": "sexual-paste",
   "metadata": {},
   "outputs": [],
   "source": [
    "def linreg(X, w, b):\n",
    "    return X @ w + b"
   ]
  },
  {
   "cell_type": "code",
   "execution_count": 12,
   "id": "negative-lender",
   "metadata": {},
   "outputs": [],
   "source": [
    "def squard_loss(y_hat, y):\n",
    "    return (y_hat - tf.reshape(y, tf.shape(y_hat))) ** 2 / 2"
   ]
  },
  {
   "cell_type": "code",
   "execution_count": 24,
   "id": "regulated-growing",
   "metadata": {},
   "outputs": [
    {
     "name": "stdout",
     "output_type": "stream",
     "text": [
      "WARNING:tensorflow:Calling GradientTape.gradient on a persistent tape inside its context is significantly less efficient than calling it outside the context (it causes the gradient ops to be recorded on the tape, leading to increased CPU and memory usage). Only call GradientTape.gradient inside the context if you actually want to trace the gradient in order to compute higher order derivatives.\n",
      "WARNING:tensorflow:Calling GradientTape.gradient on a persistent tape inside its context is significantly less efficient than calling it outside the context (it causes the gradient ops to be recorded on the tape, leading to increased CPU and memory usage). Only call GradientTape.gradient inside the context if you actually want to trace the gradient in order to compute higher order derivatives.\n",
      "epoch 1, loss: 0.04042736440896988\n",
      "epoch 2, loss: 0.0001774767297320068\n",
      "epoch 3, loss: 5.1879433158319443e-05\n"
     ]
    }
   ],
   "source": [
    "lr = 0.03\n",
    "num_epochs = 3\n",
    "shuffed_dataset = ds.shuffle(1001)\n",
    "w = tf.random.normal([num_inputs, 1], stddev=0.01)\n",
    "b = tf.zeros([1,])\n",
    "\n",
    "for epoch in range(num_epochs):\n",
    "    for sample in shuffed_dataset.batch(batch_size, drop_remainder=True):\n",
    "        with tf.GradientTape(persistent=True) as g:\n",
    "            g.watch([w,b])\n",
    "            X = tf.slice(sample, [0,0], [batch_size,2])\n",
    "            y = tf.slice(sample, [0,2], [batch_size,1])\n",
    "            y_hat = X @ w + b\n",
    "            l = (y_hat - tf.reshape(y, tf.shape(y_hat))) ** 2 / 2\n",
    "            dy_dw = g.gradient(l, w)\n",
    "            dy_db = g.gradient(l, b)\n",
    "            w = w - lr * dy_dw / batch_size\n",
    "            b = b - lr * dy_db / batch_size\n",
    "\n",
    "    train_l = squard_loss(linreg(features, w, b), labels)\n",
    "    print('epoch {}, loss: {}'.format(epoch + 1, tf.math.reduce_mean(train_l)))\n",
    "            \n",
    "            \n",
    "            "
   ]
  },
  {
   "cell_type": "code",
   "execution_count": 25,
   "id": "parallel-orlando",
   "metadata": {},
   "outputs": [
    {
     "data": {
      "text/plain": [
       "([2, -3.4],\n",
       " <tf.Tensor: shape=(2, 1), dtype=float32, numpy=\n",
       " array([[ 2.0005248],\n",
       "        [-3.3997965]], dtype=float32)>)"
      ]
     },
     "execution_count": 25,
     "metadata": {},
     "output_type": "execute_result"
    }
   ],
   "source": [
    "true_w,w"
   ]
  },
  {
   "cell_type": "code",
   "execution_count": 26,
   "id": "english-thunder",
   "metadata": {},
   "outputs": [
    {
     "data": {
      "text/plain": [
       "(4.2,\n",
       " <tf.Tensor: shape=(1,), dtype=float32, numpy=array([4.199332], dtype=float32)>)"
      ]
     },
     "execution_count": 26,
     "metadata": {},
     "output_type": "execute_result"
    }
   ],
   "source": [
    "true_b,b"
   ]
  },
  {
   "cell_type": "code",
   "execution_count": null,
   "id": "editorial-native",
   "metadata": {},
   "outputs": [],
   "source": []
  }
 ],
 "metadata": {
  "kernelspec": {
   "display_name": "Python 3",
   "language": "python",
   "name": "python3"
  },
  "language_info": {
   "codemirror_mode": {
    "name": "ipython",
    "version": 3
   },
   "file_extension": ".py",
   "mimetype": "text/x-python",
   "name": "python",
   "nbconvert_exporter": "python",
   "pygments_lexer": "ipython3",
   "version": "3.6.9"
  }
 },
 "nbformat": 4,
 "nbformat_minor": 5
}
